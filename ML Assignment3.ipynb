{
 "cells": [
  {
   "cell_type": "code",
   "execution_count": 1,
   "id": "f1beb1e7-31c9-48b8-b48f-52e580244409",
   "metadata": {},
   "outputs": [],
   "source": [
    "#Q1.\n",
    "\n",
    "# Min-Max scaling is a data preprocessing technique used to scale numeric features in a dataset to a specific range, typically between 0 and 1. \n",
    "\n",
    "# This ensures that the values fall within a consistent and interpretable reange while preserving their relative relationships."
   ]
  },
  {
   "cell_type": "code",
   "execution_count": 2,
   "id": "6db71510-287f-4954-b02c-d829eee980e7",
   "metadata": {},
   "outputs": [],
   "source": [
    "# E.g. \n",
    "from sklearn.preprocessing import MinMaxScaler"
   ]
  },
  {
   "cell_type": "code",
   "execution_count": 4,
   "id": "79d2c5a0-a7d0-4168-af05-a5c89c76e1e2",
   "metadata": {},
   "outputs": [],
   "source": [
    "data = [[-1,2], [-0.5,6], [0,10], [1,18]]"
   ]
  },
  {
   "cell_type": "code",
   "execution_count": 5,
   "id": "83ce4eb5-50ee-45b1-868e-1bddbf196e47",
   "metadata": {},
   "outputs": [],
   "source": [
    "scaler = MinMaxScaler()"
   ]
  },
  {
   "cell_type": "code",
   "execution_count": 6,
   "id": "d48e2f04-33de-4d47-9d04-ae3186d36351",
   "metadata": {},
   "outputs": [],
   "source": [
    "scaled_data = scaler.fit_transform(data)"
   ]
  },
  {
   "cell_type": "code",
   "execution_count": 7,
   "id": "1625b008-e82e-4c4b-96c6-bcf92a9bfe07",
   "metadata": {},
   "outputs": [
    {
     "name": "stdout",
     "output_type": "stream",
     "text": [
      "Original data:\n",
      "[[-1, 2], [-0.5, 6], [0, 10], [1, 18]]\n",
      "\n",
      "Scaled data (Min-Max scaled):\n",
      "[[0.   0.  ]\n",
      " [0.25 0.25]\n",
      " [0.5  0.5 ]\n",
      " [1.   1.  ]]\n"
     ]
    }
   ],
   "source": [
    "print(\"Original data:\")\n",
    "print(data)\n",
    "\n",
    "print(\"\\nScaled data (Min-Max scaled):\")\n",
    "print(scaled_data)"
   ]
  },
  {
   "cell_type": "code",
   "execution_count": 8,
   "id": "4f7886e3-4b87-4960-b9f4-b4053e669506",
   "metadata": {},
   "outputs": [],
   "source": [
    "#Q2.\n",
    "\n",
    "# The Unit Vector technique scales the features to have a unit length. \n",
    "\n",
    "# Unlike Min_max scaling, which scales features to a specific range, normalization scales features while maintaining their direction in space. "
   ]
  },
  {
   "cell_type": "code",
   "execution_count": 26,
   "id": "0c28cdd9-bb5d-400d-8ba7-e62ec6a3c530",
   "metadata": {},
   "outputs": [],
   "source": [
    "from sklearn.preprocessing import Normalizer\n",
    "import numpy as np"
   ]
  },
  {
   "cell_type": "code",
   "execution_count": 27,
   "id": "7dc97c8e-c47f-454c-9663-d36b014e151f",
   "metadata": {},
   "outputs": [],
   "source": [
    "data = np.array([[1,2], [2,3], [3,4]])"
   ]
  },
  {
   "cell_type": "code",
   "execution_count": 28,
   "id": "b2db10ba-14ae-4a5d-999c-c2150966b934",
   "metadata": {},
   "outputs": [],
   "source": [
    "normalizer = Normalizer()"
   ]
  },
  {
   "cell_type": "code",
   "execution_count": 29,
   "id": "e0af88d1-88cd-42d7-8cdb-b9faec38707b",
   "metadata": {},
   "outputs": [],
   "source": [
    "normalized_data = normalizer.transform(data)"
   ]
  },
  {
   "cell_type": "code",
   "execution_count": 30,
   "id": "e2c0bb30-c0b8-4190-a777-0393b45b6cb7",
   "metadata": {},
   "outputs": [
    {
     "name": "stdout",
     "output_type": "stream",
     "text": [
      "Original data:\n",
      "[[1 2]\n",
      " [2 3]\n",
      " [3 4]]\n",
      "\n",
      "Normalized data (Unit Vector scaled):\n",
      "[[0.4472136  0.89442719]\n",
      " [0.5547002  0.83205029]\n",
      " [0.6        0.8       ]]\n"
     ]
    }
   ],
   "source": [
    "print(\"Original data:\")\n",
    "print(data)\n",
    "\n",
    "print(\"\\nNormalized data (Unit Vector scaled):\")\n",
    "print(normalized_data)"
   ]
  },
  {
   "cell_type": "code",
   "execution_count": 31,
   "id": "47c8f6bc-b324-4cfc-8fd9-40d33bbe2184",
   "metadata": {},
   "outputs": [],
   "source": [
    "#Q3."
   ]
  },
  {
   "cell_type": "code",
   "execution_count": 32,
   "id": "a49994c7-6459-4c20-aeda-f61324cc8dc5",
   "metadata": {},
   "outputs": [],
   "source": [
    "# PCA is a dimensionality reduction technique used to tranform high-dimensional data into a lower-dimensional space while preserving as much as variance as possible."
   ]
  },
  {
   "cell_type": "code",
   "execution_count": 33,
   "id": "cc862788-91a7-425e-b929-5704c634192f",
   "metadata": {},
   "outputs": [],
   "source": [
    "# Example:\n",
    "\n",
    "# Let's say you have a dataset with multiple correlated features, such as height, weight, & age of individuals.\n",
    "\n",
    "# You apply PCA to reduce the dimensionality while retaining most of the variance.\n",
    "\n",
    "# PCA identifies principal components, let's say two: PC1 and PC2.\n",
    "\n",
    "# PC1 may represent a combination of height and weight, while PC2 may represent age.\n",
    "\n",
    "# You can now use PC1 and PC2 as new features to represent the data instead of using all three original features."
   ]
  },
  {
   "cell_type": "code",
   "execution_count": 35,
   "id": "08edccd1-1a39-4644-badf-1321a440d671",
   "metadata": {},
   "outputs": [],
   "source": [
    "from sklearn.decomposition import PCA"
   ]
  },
  {
   "cell_type": "code",
   "execution_count": 38,
   "id": "003afe1c-12b3-4824-a966-9a70416b6a5f",
   "metadata": {},
   "outputs": [],
   "source": [
    "np.random.seed(0)\n",
    "X = np.random.rand(10,3)"
   ]
  },
  {
   "cell_type": "code",
   "execution_count": 37,
   "id": "94d163e0-ac74-462d-9450-27dcee9bffcc",
   "metadata": {},
   "outputs": [],
   "source": [
    "pca = PCA(n_components=2)"
   ]
  },
  {
   "cell_type": "code",
   "execution_count": 39,
   "id": "13fc0c5a-01ed-4afa-8bf6-77c60bbe3056",
   "metadata": {},
   "outputs": [
    {
     "data": {
      "text/html": [
       "<style>#sk-container-id-1 {color: black;background-color: white;}#sk-container-id-1 pre{padding: 0;}#sk-container-id-1 div.sk-toggleable {background-color: white;}#sk-container-id-1 label.sk-toggleable__label {cursor: pointer;display: block;width: 100%;margin-bottom: 0;padding: 0.3em;box-sizing: border-box;text-align: center;}#sk-container-id-1 label.sk-toggleable__label-arrow:before {content: \"▸\";float: left;margin-right: 0.25em;color: #696969;}#sk-container-id-1 label.sk-toggleable__label-arrow:hover:before {color: black;}#sk-container-id-1 div.sk-estimator:hover label.sk-toggleable__label-arrow:before {color: black;}#sk-container-id-1 div.sk-toggleable__content {max-height: 0;max-width: 0;overflow: hidden;text-align: left;background-color: #f0f8ff;}#sk-container-id-1 div.sk-toggleable__content pre {margin: 0.2em;color: black;border-radius: 0.25em;background-color: #f0f8ff;}#sk-container-id-1 input.sk-toggleable__control:checked~div.sk-toggleable__content {max-height: 200px;max-width: 100%;overflow: auto;}#sk-container-id-1 input.sk-toggleable__control:checked~label.sk-toggleable__label-arrow:before {content: \"▾\";}#sk-container-id-1 div.sk-estimator input.sk-toggleable__control:checked~label.sk-toggleable__label {background-color: #d4ebff;}#sk-container-id-1 div.sk-label input.sk-toggleable__control:checked~label.sk-toggleable__label {background-color: #d4ebff;}#sk-container-id-1 input.sk-hidden--visually {border: 0;clip: rect(1px 1px 1px 1px);clip: rect(1px, 1px, 1px, 1px);height: 1px;margin: -1px;overflow: hidden;padding: 0;position: absolute;width: 1px;}#sk-container-id-1 div.sk-estimator {font-family: monospace;background-color: #f0f8ff;border: 1px dotted black;border-radius: 0.25em;box-sizing: border-box;margin-bottom: 0.5em;}#sk-container-id-1 div.sk-estimator:hover {background-color: #d4ebff;}#sk-container-id-1 div.sk-parallel-item::after {content: \"\";width: 100%;border-bottom: 1px solid gray;flex-grow: 1;}#sk-container-id-1 div.sk-label:hover label.sk-toggleable__label {background-color: #d4ebff;}#sk-container-id-1 div.sk-serial::before {content: \"\";position: absolute;border-left: 1px solid gray;box-sizing: border-box;top: 0;bottom: 0;left: 50%;z-index: 0;}#sk-container-id-1 div.sk-serial {display: flex;flex-direction: column;align-items: center;background-color: white;padding-right: 0.2em;padding-left: 0.2em;position: relative;}#sk-container-id-1 div.sk-item {position: relative;z-index: 1;}#sk-container-id-1 div.sk-parallel {display: flex;align-items: stretch;justify-content: center;background-color: white;position: relative;}#sk-container-id-1 div.sk-item::before, #sk-container-id-1 div.sk-parallel-item::before {content: \"\";position: absolute;border-left: 1px solid gray;box-sizing: border-box;top: 0;bottom: 0;left: 50%;z-index: -1;}#sk-container-id-1 div.sk-parallel-item {display: flex;flex-direction: column;z-index: 1;position: relative;background-color: white;}#sk-container-id-1 div.sk-parallel-item:first-child::after {align-self: flex-end;width: 50%;}#sk-container-id-1 div.sk-parallel-item:last-child::after {align-self: flex-start;width: 50%;}#sk-container-id-1 div.sk-parallel-item:only-child::after {width: 0;}#sk-container-id-1 div.sk-dashed-wrapped {border: 1px dashed gray;margin: 0 0.4em 0.5em 0.4em;box-sizing: border-box;padding-bottom: 0.4em;background-color: white;}#sk-container-id-1 div.sk-label label {font-family: monospace;font-weight: bold;display: inline-block;line-height: 1.2em;}#sk-container-id-1 div.sk-label-container {text-align: center;}#sk-container-id-1 div.sk-container {/* jupyter's `normalize.less` sets `[hidden] { display: none; }` but bootstrap.min.css set `[hidden] { display: none !important; }` so we also need the `!important` here to be able to override the default hidden behavior on the sphinx rendered scikit-learn.org. See: https://github.com/scikit-learn/scikit-learn/issues/21755 */display: inline-block !important;position: relative;}#sk-container-id-1 div.sk-text-repr-fallback {display: none;}</style><div id=\"sk-container-id-1\" class=\"sk-top-container\"><div class=\"sk-text-repr-fallback\"><pre>PCA(n_components=2)</pre><b>In a Jupyter environment, please rerun this cell to show the HTML representation or trust the notebook. <br />On GitHub, the HTML representation is unable to render, please try loading this page with nbviewer.org.</b></div><div class=\"sk-container\" hidden><div class=\"sk-item\"><div class=\"sk-estimator sk-toggleable\"><input class=\"sk-toggleable__control sk-hidden--visually\" id=\"sk-estimator-id-1\" type=\"checkbox\" checked><label for=\"sk-estimator-id-1\" class=\"sk-toggleable__label sk-toggleable__label-arrow\">PCA</label><div class=\"sk-toggleable__content\"><pre>PCA(n_components=2)</pre></div></div></div></div></div>"
      ],
      "text/plain": [
       "PCA(n_components=2)"
      ]
     },
     "execution_count": 39,
     "metadata": {},
     "output_type": "execute_result"
    }
   ],
   "source": [
    "pca.fit(X)"
   ]
  },
  {
   "cell_type": "code",
   "execution_count": 40,
   "id": "aa6160bd-6f21-4afe-9067-233ba678defe",
   "metadata": {},
   "outputs": [],
   "source": [
    "X_pca = pca.transform(X)"
   ]
  },
  {
   "cell_type": "code",
   "execution_count": 41,
   "id": "0791c5c9-5a49-43de-a185-8e4c0fd61c36",
   "metadata": {},
   "outputs": [],
   "source": [
    "explained_variance_ratio = pca.explained_variance_ratio_"
   ]
  },
  {
   "cell_type": "code",
   "execution_count": 42,
   "id": "ff1828ff-646a-45e1-afb9-389f4333b386",
   "metadata": {},
   "outputs": [
    {
     "name": "stdout",
     "output_type": "stream",
     "text": [
      "Original data shape: (10, 3)\n",
      "Transformed data shape (2 principal components): (10, 2)\n",
      "Explained variance ratio: [0.42359017 0.3875655 ]\n"
     ]
    }
   ],
   "source": [
    "print(\"Original data shape:\", X.shape)\n",
    "print(\"Transformed data shape (2 principal components):\", X_pca.shape)\n",
    "print(\"Explained variance ratio:\", explained_variance_ratio)"
   ]
  },
  {
   "cell_type": "code",
   "execution_count": 43,
   "id": "8eb7f038-f9ff-4559-9463-4dd6ef1532e8",
   "metadata": {},
   "outputs": [],
   "source": [
    "#Q4.\n",
    "\n",
    "# Relationship between PCA and Feature Extraction:\n",
    "\n",
    "# PCA is primarily used to reduce the dimenisonality of a dataset while retaining as much variance as possible. In this context, it can be considered a feature extraction technique.\n",
    "\n",
    "# Feature extraction is the process of selecting or  transforming the original features of a dataset to create a new set of features that capture the essential information in the data. PCA does this by creating new features (principal components) that are linear combinations of the original features."
   ]
  },
  {
   "cell_type": "code",
   "execution_count": 44,
   "id": "ada04242-c952-4439-8849-214b020e7112",
   "metadata": {},
   "outputs": [
    {
     "name": "stdout",
     "output_type": "stream",
     "text": [
      "Original data shape: (10, 5)\n",
      "Transformed data shape (2 principal components): (10, 2)\n"
     ]
    }
   ],
   "source": [
    "# E.g.\n",
    "np.random.seed(0)\n",
    "X = np.random.rand(10,5)\n",
    "\n",
    "pca = PCA(n_components=2)\n",
    "\n",
    "X_pca = pca.fit_transform(X)\n",
    "\n",
    "print(\"Original data shape:\", X.shape)\n",
    "print(\"Transformed data shape (2 principal components):\", X_pca.shape)"
   ]
  },
  {
   "cell_type": "code",
   "execution_count": 45,
   "id": "1aabd53e-54aa-44b9-be71-b18bd14f84ff",
   "metadata": {},
   "outputs": [],
   "source": [
    "#Q5.\n",
    "\n",
    "from sklearn.preprocessing import MinMaxScaler\n",
    "import pandas as pd"
   ]
  },
  {
   "cell_type": "code",
   "execution_count": 46,
   "id": "fdc296a7-4adf-4c05-a07b-ef032e6ac139",
   "metadata": {},
   "outputs": [],
   "source": [
    "data= { \n",
    "    'price':[10, 20, 30, 40, 50], \n",
    "    'rating':[3.5, 4.2, 4.8, 3.9, 4.5], \n",
    "    'delivery_time':[20, 25, 15, 30, 35]\n",
    "}\n",
    "\n",
    "df = pd.DataFrame(data)"
   ]
  },
  {
   "cell_type": "code",
   "execution_count": 47,
   "id": "b65bc1f9-50b0-4095-85b8-e9be5fc63c34",
   "metadata": {},
   "outputs": [],
   "source": [
    "scaler = MinMaxScaler()"
   ]
  },
  {
   "cell_type": "code",
   "execution_count": 48,
   "id": "136b3713-d29f-4024-8946-726406f829ff",
   "metadata": {},
   "outputs": [],
   "source": [
    "scaled_data = scaler.fit_transform(df)"
   ]
  },
  {
   "cell_type": "code",
   "execution_count": 51,
   "id": "bbdc8d30-7786-4d43-8803-b3cff932c379",
   "metadata": {},
   "outputs": [],
   "source": [
    "scaled_df = pd.DataFrame(scaled_data,columns=df.columns)"
   ]
  },
  {
   "cell_type": "code",
   "execution_count": 52,
   "id": "40f298a8-23e9-4038-9a33-3ad89c44673e",
   "metadata": {},
   "outputs": [
    {
     "name": "stdout",
     "output_type": "stream",
     "text": [
      "   price    rating  delivery_time\n",
      "0   0.00  0.000000           0.25\n",
      "1   0.25  0.538462           0.50\n",
      "2   0.50  1.000000           0.00\n",
      "3   0.75  0.307692           0.75\n",
      "4   1.00  0.769231           1.00\n"
     ]
    }
   ],
   "source": [
    "print(scaled_df)"
   ]
  },
  {
   "cell_type": "code",
   "execution_count": 12,
   "id": "f7200616-e323-4767-bf4b-603bf4c35bbe",
   "metadata": {},
   "outputs": [],
   "source": [
    "#Q6.\n",
    "\n",
    "import numpy as np\n",
    "import pandas as pd\n",
    "from sklearn.preprocessing import StandardScaler\n",
    "from sklearn.decomposition import PCA"
   ]
  },
  {
   "cell_type": "code",
   "execution_count": 13,
   "id": "287cd5d2-b996-422c-8e4f-5f8f61af5a3c",
   "metadata": {},
   "outputs": [],
   "source": [
    "# Sample dataset with stock-related features\n",
    "data = np.array([ \n",
    "    [10000, 2000, 25, 0.5, 1500],\n",
    "    [11000, 2200, 26, 0.6, 1550],\n",
    "    [12000, 2400, 24, 0.7, 1600],\n",
    "    [10500, 2100, 23, 0.4, 1570],\n",
    "    [10800, 2160, 27, 0.55, 1530]\n",
    "])\n",
    "\n",
    "columns = ['Revenue', 'Earnings', 'Debt', 'TradingVolume', 'StockIndices']\n",
    "df = pd.DataFrame(data, columns=columns)"
   ]
  },
  {
   "cell_type": "code",
   "execution_count": 14,
   "id": "ed693d12-10e9-452d-a428-47be751e9009",
   "metadata": {},
   "outputs": [],
   "source": [
    "scaler = StandardScaler()\n",
    "scaled_data = scaler.fit_transform(data)"
   ]
  },
  {
   "cell_type": "code",
   "execution_count": 15,
   "id": "8bde01e6-cbb6-4813-a789-5e5206fe9b85",
   "metadata": {},
   "outputs": [],
   "source": [
    "pca = PCA(n_components=0.95)\n",
    "principal_components = pca.fit_transform(scaled_data)"
   ]
  },
  {
   "cell_type": "code",
   "execution_count": 16,
   "id": "22d37637-f050-45c9-8b0a-61e7e8e08e58",
   "metadata": {},
   "outputs": [
    {
     "name": "stdout",
     "output_type": "stream",
     "text": [
      "        PC1       PC2\n",
      "0 -2.304864 -0.196978\n",
      "1  0.383149 -0.813439\n",
      "2  3.264323  0.285684\n",
      "3 -0.841910  2.086768\n",
      "4 -0.500697 -1.362036\n"
     ]
    }
   ],
   "source": [
    "reduced_data = pd.DataFrame(data=principal_components, columns=['PC1', 'PC2'])\n",
    "print(reduced_data)"
   ]
  },
  {
   "cell_type": "code",
   "execution_count": 55,
   "id": "75f4dbaf-6fe3-4287-bb74-475590fad94b",
   "metadata": {},
   "outputs": [
    {
     "name": "stdout",
     "output_type": "stream",
     "text": [
      "[[-1.        ]\n",
      " [-0.57894737]\n",
      " [-0.05263158]\n",
      " [ 0.47368421]\n",
      " [ 1.        ]]\n"
     ]
    }
   ],
   "source": [
    "#Q7.\n",
    "from sklearn.preprocessing import MinMaxScaler\n",
    "\n",
    "data = np.array([[1], [5], [10], [15], [20]])\n",
    "\n",
    "scaler = MinMaxScaler(feature_range=(-1,1))\n",
    "\n",
    "scaled_data = scaler.fit_transform(data)\n",
    "\n",
    "print(scaled_data)"
   ]
  },
  {
   "cell_type": "code",
   "execution_count": 1,
   "id": "3e14923e-cda3-4a56-9b9f-65e3d86824f0",
   "metadata": {},
   "outputs": [],
   "source": [
    "#Q8.\n",
    "\n",
    "import numpy as np\n",
    "from sklearn.decomposition import PCA\n",
    "from sklearn.preprocessing import StandardScaler"
   ]
  },
  {
   "cell_type": "code",
   "execution_count": 2,
   "id": "70a56cbd-ff72-479d-991c-fa9bb7db6abc",
   "metadata": {},
   "outputs": [],
   "source": [
    "data = np.array([\n",
    "    [160, 60, 30, 1, 120],\n",
    "    [165, 65, 35, 0, 130],\n",
    "    [155, 55, 25, 1, 115],\n",
    "    [170, 70, 40, 0, 125],\n",
    "    [150, 50, 28, 1, 135]\n",
    "])"
   ]
  },
  {
   "cell_type": "code",
   "execution_count": 3,
   "id": "375ebbb7-7362-441b-b391-34606079f3f4",
   "metadata": {},
   "outputs": [],
   "source": [
    "scaler = StandardScaler()"
   ]
  },
  {
   "cell_type": "code",
   "execution_count": 4,
   "id": "baf12258-9280-49d2-9bdf-4240d1c61e16",
   "metadata": {},
   "outputs": [],
   "source": [
    "scaled_data = scaler.fit_transform(data)"
   ]
  },
  {
   "cell_type": "code",
   "execution_count": 5,
   "id": "8c5106a5-2432-41fd-aef9-5196d7a24948",
   "metadata": {},
   "outputs": [],
   "source": [
    "pca = PCA()"
   ]
  },
  {
   "cell_type": "code",
   "execution_count": 6,
   "id": "5c404ae4-47ec-41df-b843-7b8e8e21fdd6",
   "metadata": {},
   "outputs": [
    {
     "data": {
      "text/html": [
       "<style>#sk-container-id-1 {color: black;background-color: white;}#sk-container-id-1 pre{padding: 0;}#sk-container-id-1 div.sk-toggleable {background-color: white;}#sk-container-id-1 label.sk-toggleable__label {cursor: pointer;display: block;width: 100%;margin-bottom: 0;padding: 0.3em;box-sizing: border-box;text-align: center;}#sk-container-id-1 label.sk-toggleable__label-arrow:before {content: \"▸\";float: left;margin-right: 0.25em;color: #696969;}#sk-container-id-1 label.sk-toggleable__label-arrow:hover:before {color: black;}#sk-container-id-1 div.sk-estimator:hover label.sk-toggleable__label-arrow:before {color: black;}#sk-container-id-1 div.sk-toggleable__content {max-height: 0;max-width: 0;overflow: hidden;text-align: left;background-color: #f0f8ff;}#sk-container-id-1 div.sk-toggleable__content pre {margin: 0.2em;color: black;border-radius: 0.25em;background-color: #f0f8ff;}#sk-container-id-1 input.sk-toggleable__control:checked~div.sk-toggleable__content {max-height: 200px;max-width: 100%;overflow: auto;}#sk-container-id-1 input.sk-toggleable__control:checked~label.sk-toggleable__label-arrow:before {content: \"▾\";}#sk-container-id-1 div.sk-estimator input.sk-toggleable__control:checked~label.sk-toggleable__label {background-color: #d4ebff;}#sk-container-id-1 div.sk-label input.sk-toggleable__control:checked~label.sk-toggleable__label {background-color: #d4ebff;}#sk-container-id-1 input.sk-hidden--visually {border: 0;clip: rect(1px 1px 1px 1px);clip: rect(1px, 1px, 1px, 1px);height: 1px;margin: -1px;overflow: hidden;padding: 0;position: absolute;width: 1px;}#sk-container-id-1 div.sk-estimator {font-family: monospace;background-color: #f0f8ff;border: 1px dotted black;border-radius: 0.25em;box-sizing: border-box;margin-bottom: 0.5em;}#sk-container-id-1 div.sk-estimator:hover {background-color: #d4ebff;}#sk-container-id-1 div.sk-parallel-item::after {content: \"\";width: 100%;border-bottom: 1px solid gray;flex-grow: 1;}#sk-container-id-1 div.sk-label:hover label.sk-toggleable__label {background-color: #d4ebff;}#sk-container-id-1 div.sk-serial::before {content: \"\";position: absolute;border-left: 1px solid gray;box-sizing: border-box;top: 0;bottom: 0;left: 50%;z-index: 0;}#sk-container-id-1 div.sk-serial {display: flex;flex-direction: column;align-items: center;background-color: white;padding-right: 0.2em;padding-left: 0.2em;position: relative;}#sk-container-id-1 div.sk-item {position: relative;z-index: 1;}#sk-container-id-1 div.sk-parallel {display: flex;align-items: stretch;justify-content: center;background-color: white;position: relative;}#sk-container-id-1 div.sk-item::before, #sk-container-id-1 div.sk-parallel-item::before {content: \"\";position: absolute;border-left: 1px solid gray;box-sizing: border-box;top: 0;bottom: 0;left: 50%;z-index: -1;}#sk-container-id-1 div.sk-parallel-item {display: flex;flex-direction: column;z-index: 1;position: relative;background-color: white;}#sk-container-id-1 div.sk-parallel-item:first-child::after {align-self: flex-end;width: 50%;}#sk-container-id-1 div.sk-parallel-item:last-child::after {align-self: flex-start;width: 50%;}#sk-container-id-1 div.sk-parallel-item:only-child::after {width: 0;}#sk-container-id-1 div.sk-dashed-wrapped {border: 1px dashed gray;margin: 0 0.4em 0.5em 0.4em;box-sizing: border-box;padding-bottom: 0.4em;background-color: white;}#sk-container-id-1 div.sk-label label {font-family: monospace;font-weight: bold;display: inline-block;line-height: 1.2em;}#sk-container-id-1 div.sk-label-container {text-align: center;}#sk-container-id-1 div.sk-container {/* jupyter's `normalize.less` sets `[hidden] { display: none; }` but bootstrap.min.css set `[hidden] { display: none !important; }` so we also need the `!important` here to be able to override the default hidden behavior on the sphinx rendered scikit-learn.org. See: https://github.com/scikit-learn/scikit-learn/issues/21755 */display: inline-block !important;position: relative;}#sk-container-id-1 div.sk-text-repr-fallback {display: none;}</style><div id=\"sk-container-id-1\" class=\"sk-top-container\"><div class=\"sk-text-repr-fallback\"><pre>PCA()</pre><b>In a Jupyter environment, please rerun this cell to show the HTML representation or trust the notebook. <br />On GitHub, the HTML representation is unable to render, please try loading this page with nbviewer.org.</b></div><div class=\"sk-container\" hidden><div class=\"sk-item\"><div class=\"sk-estimator sk-toggleable\"><input class=\"sk-toggleable__control sk-hidden--visually\" id=\"sk-estimator-id-1\" type=\"checkbox\" checked><label for=\"sk-estimator-id-1\" class=\"sk-toggleable__label sk-toggleable__label-arrow\">PCA</label><div class=\"sk-toggleable__content\"><pre>PCA()</pre></div></div></div></div></div>"
      ],
      "text/plain": [
       "PCA()"
      ]
     },
     "execution_count": 6,
     "metadata": {},
     "output_type": "execute_result"
    }
   ],
   "source": [
    "pca.fit(scaled_data)"
   ]
  },
  {
   "cell_type": "code",
   "execution_count": 7,
   "id": "06c9e534-1b51-41b9-aadd-8e55fa063007",
   "metadata": {},
   "outputs": [],
   "source": [
    "explained_variance = pca.explained_variance_ratio_\n",
    "cumulative_variance = np.cumsum(explained_variance)"
   ]
  },
  {
   "cell_type": "code",
   "execution_count": 8,
   "id": "d1488795-e826-4a24-8497-c8cfd1be7704",
   "metadata": {},
   "outputs": [],
   "source": [
    "import matplotlib.pyplot as plt"
   ]
  },
  {
   "cell_type": "code",
   "execution_count": 9,
   "id": "98091061-0836-4a71-a570-1f8436f778bb",
   "metadata": {},
   "outputs": [
    {
     "data": {
      "image/png": "[encoded data removed]",
      "text/plain": [
       "<Figure size 640x480 with 1 Axes>"
      ]
     },
     "metadata": {},
     "output_type": "display_data"
    }
   ],
   "source": [
    "plt.plot(range(1, len(explained_variance) + 1), explained_variance, marker='o', linestyle='--')\n",
    "plt.xlabel('Number of Principal Components')\n",
    "plt.ylabel('Explained Variance Ratio')\n",
    "plt.title('Scree Plot')\n",
    "plt.grid()\n",
    "plt.show()"
   ]
  },
  {
   "cell_type": "code",
   "execution_count": 10,
   "id": "08d0f650-82cb-4b57-a6e6-5c09801c6eca",
   "metadata": {},
   "outputs": [],
   "source": [
    "n_components = np.argmax(cumulative_variance>=0.95) + 1\n",
    "pca = PCA(n_components=n_components)\n",
    "data_reduced = pca.fit_transform(scaled_data)"
   ]
  },
  {
   "cell_type": "code",
   "execution_count": 11,
   "id": "a8b407bb-2dca-4113-87fc-952fe3ddeddb",
   "metadata": {},
   "outputs": [
    {
     "data": {
      "text/plain": [
       "array([[-0.60010551, -0.83318001],\n",
       "       [ 1.67959774,  0.64129948],\n",
       "       [-1.82978835, -1.31889495],\n",
       "       [ 2.81212935, -0.17961824],\n",
       "       [-2.06183324,  1.69039372]])"
      ]
     },
     "execution_count": 11,
     "metadata": {},
     "output_type": "execute_result"
    }
   ],
   "source": [
    "# 'data_reduced' now contains the dataset with reduced dimensionality based on the chosen number of components.\n",
    "data_reduced"
   ]
  },
  {
   "cell_type": "code",
   "execution_count": null,
   "id": "7738f839-dc22-492e-a590-b9279617b8b7",
   "metadata": {},
   "outputs": [],
   "source": []
  }
 ],
 "metadata": {
  "kernelspec": {
   "display_name": "Python 3 (ipykernel)",
   "language": "python",
   "name": "python3"
  },
  "language_info": {
   "codemirror_mode": {
    "name": "ipython",
    "version": 3
   },
   "file_extension": ".py",
   "mimetype": "text/x-python",
   "name": "python",
   "nbconvert_exporter": "python",
   "pygments_lexer": "ipython3",
   "version": "3.10.8"
  }
 },
 "nbformat": 4,
 "nbformat_minor": 5
}
